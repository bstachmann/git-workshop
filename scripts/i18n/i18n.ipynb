{
 "cells": [
  {
   "cell_type": "code",
   "execution_count": null,
   "id": "2566281b",
   "metadata": {},
   "outputs": [],
   "source": [
    "import glob"
   ]
  },
  {
   "cell_type": "code",
   "execution_count": null,
   "id": "46f8db72",
   "metadata": {},
   "outputs": [],
   "source": [
    "headings = glob.glob('../../headings/**/*.md', recursive=True)\n",
    "sections = glob.glob('../../sections/**/*.md', recursive=True)\n",
    "presentation_files = [ f for f in headings + sections if not f.endswith('.en.md') ]\n",
    "print(f\"Found {len(presentation_files)} presentation files, {len(headings)} headings and {len(sections)} sections.\")"
   ]
  },
  {
   "cell_type": "code",
   "execution_count": null,
   "id": "c99edd01",
   "metadata": {},
   "outputs": [],
   "source": [
    "for file in presentation_files:\n",
    "    print(f\"Processing {file}\")\n",
    "    with open(file, 'r', encoding='utf-8') as original:\n",
    "        with open(file.replace('.md', '.en.md'), 'w', encoding='utf-8') as copy:\n",
    "            copy.write(original.read())\n",
    "    print(f\"Created {file.replace('.md', '.en.md')}\")\n"
   ]
  },
  {
   "cell_type": "code",
   "execution_count": null,
   "id": "f4b96367",
   "metadata": {},
   "outputs": [],
   "source": [
    "english = glob.glob('headings/**/*.en.md', recursive=True, root_dir='../..')\n",
    "english.sort()\n",
    "print(f\"Found {len(english)} headings and sections in English.\")\n",
    "\n",
    "with open('_tmpTodo.txt', 'w', encoding='utf-8') as f:\n",
    "    for h in english:\n",
    "        print(f'- {h}',file = f)\n",
    "\n"
   ]
  },
  {
   "cell_type": "code",
   "execution_count": null,
   "id": "fd5b36d3",
   "metadata": {},
   "outputs": [],
   "source": []
  }
 ],
 "metadata": {
  "kernelspec": {
   "display_name": ".venv",
   "language": "python",
   "name": "python3"
  },
  "language_info": {
   "codemirror_mode": {
    "name": "ipython",
    "version": 3
   },
   "file_extension": ".py",
   "mimetype": "text/x-python",
   "name": "python",
   "nbconvert_exporter": "python",
   "pygments_lexer": "ipython3",
   "version": "3.10.12"
  }
 },
 "nbformat": 4,
 "nbformat_minor": 5
}
